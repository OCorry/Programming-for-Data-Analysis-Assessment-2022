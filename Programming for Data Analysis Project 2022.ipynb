{
 "cells": [
  {
   "cell_type": "markdown",
   "id": "5aa0ce90",
   "metadata": {},
   "source": [
    "# Programming for Data Analysis Project 2022\n",
    "### Orla Corry\n",
    "### G00411336\n",
    "***"
   ]
  },
  {
   "cell_type": "markdown",
   "id": "a3ed0440",
   "metadata": {},
   "source": [
    "## Introduction\n",
    "***\n",
    "The purpose of this project is to create a dataset by simulating a real-world phenomenon. Rather than collecting data, I will be modeling and synthasing data from a dataset, using Python and functions within Python. \n",
    "\n",
    "For this project I will be looking at Medical Insurance cost and some of the variables that influence the cost of Medical insurance in the USA. \n",
    "\n",
    "## Background to my research\n",
    "\n",
    "In the health insurance industry in Ireland, amongst other principals, there is a principal known as <a href=\"https://www.citizensinformation.ie/en/health/health_system/private_health_insurance.html\" target=\"_top\">Community rating</a> which means that Health Insurers cannot increase/load an insurance premium based on variables such as age, health status etc. The recent introduction of <a href=\"https://www.hia.ie/consumer-information/lifetime-community-rating-explained\" target=\"_top\">Lifetime Community Rating</a> means however, that the insurance premium paid is dependant on the age at which the person takes out thier first Health Insurance policy.\n",
    "\n",
    "Despite the introduction of Lifetime Community Rating in Ireland, there is still a stark contrast between the calculation of health insurance premiums in Ireland versus the USA. According to a blog in November 2021 by <a href=\"https://www.william-russell.com/blog/health-insurance-usa-cost/#:~:text=The%20average%20annual%20cost%20of,fund%20roughly%20three%20quarters%20of.\" target=\"_top\">Joe Holden</a>, the average cost of health insurance in the USA is US $\\$$7,739.00 for an individual and a staggering US $\\$$22,221.00 for a family in the year 2021.\n",
    "\n",
    "According to the <a href=\"https://www.hia.ie/sites/default/files/HIA%20Market%20Statistics-Q4-2021.pdf\" target=\"_top\">HIA</a>,\n",
    "for the fourth quarter of the year 2021, the average cost of health insurance in Ireland for an individual audlt is €1,470.00 which works out at about US $\\$$1,523.14."
   ]
  },
  {
   "cell_type": "markdown",
   "id": "7c59b1cb",
   "metadata": {},
   "source": [
    "## Trends in Health Insurance costs over two decades\n",
    "***\n",
    "Below are two figures which were sourced <a href=\"https://www.kff.org/report-section/ehbs-2021-section-1-cost-of-health-insurance/\" target=\"_top\">here</a> that give an indication of the trend in insurance costs over two decades.\n",
    "\n",
    "**Figure 1.12** shows that from the time period year 1999 to 2021, there has been a continuous increase in health insurance premiums both for individual cover and for family cover and both have been increasing incrementally and steadily over the last 2 decades.\n",
    "\n",
    "**Figure 1.15**, for a similar timeframe, displays the increase in the cost of health insurance for family coverage relative to the increase in general inflation and more noteably, increase in workers earnings. While it is evident that there is an increase in workers earnings, the cost of family coverage health insurance is always increasing at a higher rate than that of workers earnings. \n",
    "\n",
    "\n",
    "![alternatvie text](https://www.kff.org/wp-content/uploads/2021/11/Figure-1-12.png?w=698)\n",
    "<br>\n",
    "<br>\n",
    "![alternatvie text](https://www.kff.org/wp-content/uploads/2021/11/Figure-1-15.png?w=698)"
   ]
  },
  {
   "cell_type": "markdown",
   "id": "9ba2684a",
   "metadata": {},
   "source": [
    "## What factors are contributing to the high cost of Health Insurance in the USA\n",
    "***"
   ]
  },
  {
   "cell_type": "markdown",
   "id": "4822b96d",
   "metadata": {},
   "source": [
    "## References\n",
    "\n",
    "- https://markdownmonster.west-wind.com/docs/_4xs10gaui.htm\n",
    "\n",
    "\n",
    "- https://www.citizensinformation.ie/en/health/health_system/private_health_insurance.html\n",
    "  \n",
    "  \n",
    "- https://www.hia.ie/consumer-information/lifetime-community-rating-explained\n",
    "\n",
    "\n",
    "- https://www.kff.org/wp-content/uploads/2021/11/Figure-1-12.png?w=698\n",
    "\n",
    "\n",
    "- https://www.kff.org/wp-content/uploads/2021/11/Figure-1-15.png?w=698\n",
    "\n",
    "\n",
    "- https://www.william-russell.com/blog/health-insurance-usa-cost/#:~:text=The%20average%20annual%20cost%20of,fund%20roughly%20three%20quarters%20of.\n",
    "\n",
    "\n",
    "- https://www.hia.ie/sites/default/files/HIA%20Market%20Statistics-Q4-2021.pdf\n"
   ]
  },
  {
   "cell_type": "code",
   "execution_count": null,
   "id": "0226b59c",
   "metadata": {},
   "outputs": [],
   "source": []
  }
 ],
 "metadata": {
  "kernelspec": {
   "display_name": "Python 3 (ipykernel)",
   "language": "python",
   "name": "python3"
  },
  "language_info": {
   "codemirror_mode": {
    "name": "ipython",
    "version": 3
   },
   "file_extension": ".py",
   "mimetype": "text/x-python",
   "name": "python",
   "nbconvert_exporter": "python",
   "pygments_lexer": "ipython3",
   "version": "3.9.13"
  },
  "vscode": {
   "interpreter": {
    "hash": "2043299c89c8cd0b4d1a6f5cf4529bd58e6a4e0fe3181a25e0d328c821cdc5c5"
   }
  }
 },
 "nbformat": 4,
 "nbformat_minor": 5
}
