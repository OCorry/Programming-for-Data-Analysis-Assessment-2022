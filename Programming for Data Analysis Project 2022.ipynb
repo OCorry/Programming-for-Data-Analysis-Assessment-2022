{
 "cells": [
  {
   "cell_type": "markdown",
   "id": "5aa0ce90",
   "metadata": {},
   "source": [
    "# Programming for Data Analysis Project 2022\n",
    "### Orla Corry\n",
    "### G00411336\n",
    "***"
   ]
  },
  {
   "cell_type": "markdown",
   "id": "a3ed0440",
   "metadata": {},
   "source": [
    "## Introduction\n",
    "***\n",
    "The purpose of this project is to create a dataset by simulating a real-world phenomenon. Rather than collecting data, I will be modeling and synthasing data from a dataset, using Python and functions within Python. \n",
    "\n",
    "For this project I will be looking at Medical Insurance cost and some of the variables that influence the cost of Medical insurance in the USA. \n",
    "\n",
    "## Background to my research\n",
    "***\n",
    "\n",
    "Findings from research done by  <a href=\"https://www.statista.com/statistics/200946/americans-with-health-insurance/\" target=\"_top\">statista, 2022</a> show that the number of people with health insurance in the United states has been increasing from the year 1990 up until 2021 and the following graph from their research illustrates this trend.\n",
    "\n",
    "![Number of people with health insurane in the United States from 1990 to 2021](https://cdn.statcdn.com/Statistic/200000/200946-blank-754.png)\n",
    "<br>\n",
    "<br>\n",
    "There is a significant rise or steepness in the curve particularly from 2010 through to 2016 in particular. This sharp increase was due to the introduction of <a href=\"https://www.ehealthinsurance.com/resources/affordable-care-act/history-timeline-affordable-care-act-aca\" target=\"_top\">*Obamacare*<sup>1</sup></a> or *The Patient Protection and Affordability Care Act* brought in by the then President of the United States Barak Obama. The Act was set out to ensure that every American could afford a health insurance plan and and to help out those who could not afford a health insurance plan. "
   ]
  },
  {
   "cell_type": "markdown",
   "id": "9595004e",
   "metadata": {},
   "source": [
    "### Some insight into the Health Insurance market in Ireland\n",
    "***\n",
    "\n",
    "In the health insurance industry in Ireland, amongst other principals, there is a principal known as <a href=\"https://www.citizensinformation.ie/en/health/health_system/private_health_insurance.html\" target=\"_top\">Community rating</a> which means that Health Insurers cannot increase/load an insurance premium based on variables such as age, health status etc. The recent introduction of <a href=\"https://www.hia.ie/consumer-information/lifetime-community-rating-explained\" target=\"_top\">Lifetime Community Rating</a> means however, that the insurance premium paid is dependant on the age at which the person takes out thier first Health Insurance policy.\n",
    "\n",
    "According to the <a href=\"https://www.hia.ie/sites/default/files/HIA%20Market%20Statistics-Q4-2021.pdf\" target=\"_top\">HIA</a>,\n",
    "for the fourth quarter of the year 2021, the average cost of health insurance in Ireland for an individual audlt is €1,470.00 which works out at about US $\\$$1,523.14.\n",
    "\n",
    "Despite the introduction of Lifetime Community Rating in Ireland, there is still a stark contrast between the cost of health insurance premiums in Ireland versus the USA. According to a blog in November 2021 by <a href=\"https://www.william-russell.com/blog/health-insurance-usa-cost/#:~:text=The%20average%20annual%20cost%20of,fund%20roughly%20three%20quarters%20of.\" target=\"_top\">Joe Holden</a>, the average annual cost of health insurance in the USA is US $\\$$7,739.00 for an individual and a staggering US $\\$$22,221.00 for a family in the year 2021.\n",
    "\n"
   ]
  },
  {
   "cell_type": "markdown",
   "id": "7c59b1cb",
   "metadata": {},
   "source": [
    "### Trends in Health Insurance costs over two decades\n",
    "***\n",
    "Below are two figures which were sourced from <a href=\"https://www.kff.org/report-section/ehbs-2021-section-1-cost-of-health-insurance/\" target=\"_top\">KFF 2021 Employer Health Benefits Survey, 2021</a> which give an indication of the trend in insurance costs over two decades.\n",
    "\n",
    "**Figure 1.12** from the report shows that from the time period year 1999 to 2021, there has been a continuous increase in health insurance premiums both for individual cover and for family cover and both have been increasing incrementally and steadily over the last 2 decades.\n",
    "\n",
    "From a similar time period, **Figure 1.15** from the same report displays the increase in the cost of health insurance for family coverage relative to the increase in general inflation and more noteably, increase in workers earnings. While it is evident that there is an increase in workers earnings, the cost of family coverage health insurance is always increasing at a higher rate than that of workers earnings. "
   ]
  },
  {
   "cell_type": "markdown",
   "id": "b279434d",
   "metadata": {},
   "source": [
    "![alternatvie text](https://www.kff.org/wp-content/uploads/2021/11/Figure-1-12.png?w=698)\n",
    "<br>\n",
    "<br>"
   ]
  },
  {
   "cell_type": "markdown",
   "id": "9a5c9326",
   "metadata": {},
   "source": [
    "![alternatvie text](https://www.kff.org/wp-content/uploads/2021/11/Figure-1-15.png?w=698)\n",
    "<br>\n",
    "<br>"
   ]
  },
  {
   "cell_type": "markdown",
   "id": "0ffca065",
   "metadata": {},
   "source": [
    "The f"
   ]
  },
  {
   "cell_type": "markdown",
   "id": "9ba2684a",
   "metadata": {},
   "source": [
    "## What factors/variables are contributing to the high cost of Health Insurance in the USA?\n",
    "***"
   ]
  },
  {
   "cell_type": "markdown",
   "id": "2a3fd30f",
   "metadata": {},
   "source": [
    "According to <a href=\"https://www.experian.com/blogs/ask-experian/factors-that-affect-health-insurance-premium-costs/.\" target=\"_top\">Allison Martin, 2022</a> the following are factors that influence the cost of health insurance:\n",
    "\n",
    "- Age\n",
    "- Your Location\n",
    "- Tobacco Use\n",
    "- Who is added to your plan\n",
    "- Type of plan \n",
    "\n",
    "There is another factor that is of significant importance associated with the cost of health insurance and that is administration costs. Accordning to <a href=\"https://jamanetwork.com/journals/jama/fullarticle/2785479#:~:text=A%20variety%20of%20studies%20over,of%20%243.8%20trillion%20in%202019..\" target=\"_top\">Chernew, M & Mintz. H, 2021,</a> administration expenses account for approzimately 15% to 25% of total health care expenditures and insurance administrative costs is among one of the primary drivers of these expenses. \n",
    "\n",
    "\n",
    "According to _______ gender should not be a rating factor when generating a premium when the level of cover is the same. \n",
    "\n"
   ]
  },
  {
   "cell_type": "markdown",
   "id": "4822b96d",
   "metadata": {},
   "source": [
    "## References\n",
    "***\n",
    "\n",
    "\n",
    "- https://www.statista.com/statistics/200946/americans-with-health-insurance/\n",
    "\n",
    "\n",
    "- https://www.ehealthinsurance.com/resources/affordable-care-act/history-timeline-affordable-care-act-aca\n",
    "\n",
    "\n",
    "- https://www.citizensinformation.ie/en/health/health_system/private_health_insurance.html\n",
    "\n",
    "\n",
    "- https://www.hia.ie/consumer-information/lifetime-community-rating-explained\n",
    "\n",
    "\n",
    "- https://www.william-russell.com/blog/health-insurance-usa-cost/#:~:text=The%20average%20annual%20cost%20of,fund%20roughly%20three%20quarters%20of.\n",
    "\n",
    "\n",
    "- https://www.hia.ie/sites/default/files/HIA%20Market%20Statistics-Q4-2021.pdf\n",
    "\n",
    "\n",
    "- https://www.kff.org/report-section/ehbs-2021-section-1-cost-of-health-insurance/\n",
    "\n",
    "\n",
    "- https://www.experian.com/blogs/ask-experian/factors-that-affect-health-insurance-premium-costs/\n",
    "\n",
    "\n",
    "- https://jamanetwork.com/journals/jama/fullarticle/2785479#:~:text=A%20variety%20of%20studies%20over,of%20%243.8%20trillion%20in%202019..\n",
    "\n"
   ]
  },
  {
   "cell_type": "code",
   "execution_count": null,
   "id": "0226b59c",
   "metadata": {},
   "outputs": [],
   "source": []
  }
 ],
 "metadata": {
  "kernelspec": {
   "display_name": "Python 3 (ipykernel)",
   "language": "python",
   "name": "python3"
  },
  "language_info": {
   "codemirror_mode": {
    "name": "ipython",
    "version": 3
   },
   "file_extension": ".py",
   "mimetype": "text/x-python",
   "name": "python",
   "nbconvert_exporter": "python",
   "pygments_lexer": "ipython3",
   "version": "3.9.13"
  },
  "vscode": {
   "interpreter": {
    "hash": "2043299c89c8cd0b4d1a6f5cf4529bd58e6a4e0fe3181a25e0d328c821cdc5c5"
   }
  }
 },
 "nbformat": 4,
 "nbformat_minor": 5
}
